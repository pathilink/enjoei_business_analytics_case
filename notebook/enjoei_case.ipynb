{
 "cells": [
  {
   "cell_type": "markdown",
   "metadata": {},
   "source": [
    "# <font color=#ea5173>Enjoei</font><font color=#583233> Business Analytics Case</font>"
   ]
  },
  {
   "cell_type": "markdown",
   "metadata": {},
   "source": [
    "## Table of Contents\n",
    "\n",
    "[1. Information](#1.-Information)\n",
    "\n",
    "[2. Libraries](#2.-Libraries)\n",
    "\n",
    "[3. Data](#3.-Data)\n",
    "    \n",
    "[4. Exploratory Data Analysis](#4.-Exploratory-Data-Analysis)\n",
    "\n",
    "* [4.1 Funnel](#4.1-Funnel)\n",
    "* [4.2 Orders](#4.2-Orders)"
   ]
  },
  {
   "cell_type": "markdown",
   "metadata": {},
   "source": [
    "## 1. Information\n",
    "[Return to Table of Contents](#Table-of-Contents)"
   ]
  },
  {
   "cell_type": "markdown",
   "metadata": {},
   "source": [
    "## 2. Libraries\n",
    "[Return to Table of Contents](#Table-of-Contents)"
   ]
  },
  {
   "cell_type": "code",
   "execution_count": 1,
   "metadata": {},
   "outputs": [],
   "source": [
    "import pandas as pd # dataframe\n",
    "import numpy as np # list\n",
    "import seaborn as sns # graph\n",
    "from matplotlib import pyplot as plt # plot\n"
   ]
  },
  {
   "cell_type": "markdown",
   "metadata": {},
   "source": [
    "## 3. Data\n",
    "[Return to Table of Contents](#Table-of-Contents)"
   ]
  },
  {
   "cell_type": "code",
   "execution_count": 2,
   "metadata": {},
   "outputs": [
    {
     "data": {
      "text/html": [
       "<div>\n",
       "<style scoped>\n",
       "    .dataframe tbody tr th:only-of-type {\n",
       "        vertical-align: middle;\n",
       "    }\n",
       "\n",
       "    .dataframe tbody tr th {\n",
       "        vertical-align: top;\n",
       "    }\n",
       "\n",
       "    .dataframe thead th {\n",
       "        text-align: right;\n",
       "    }\n",
       "</style>\n",
       "<table border=\"1\" class=\"dataframe\">\n",
       "  <thead>\n",
       "    <tr style=\"text-align: right;\">\n",
       "      <th></th>\n",
       "      <th>date</th>\n",
       "      <th>visits</th>\n",
       "      <th>product_views</th>\n",
       "      <th>carts_created</th>\n",
       "      <th>orders</th>\n",
       "      <th>orders_value</th>\n",
       "    </tr>\n",
       "  </thead>\n",
       "  <tbody>\n",
       "    <tr>\n",
       "      <th>29</th>\n",
       "      <td>16/04/2020</td>\n",
       "      <td>21997</td>\n",
       "      <td>28790</td>\n",
       "      <td>3099</td>\n",
       "      <td>1114</td>\n",
       "      <td>140887,53</td>\n",
       "    </tr>\n",
       "    <tr>\n",
       "      <th>3</th>\n",
       "      <td>13/04/2020</td>\n",
       "      <td>21135</td>\n",
       "      <td>27109</td>\n",
       "      <td>2861</td>\n",
       "      <td>1037</td>\n",
       "      <td>134157,1</td>\n",
       "    </tr>\n",
       "    <tr>\n",
       "      <th>38</th>\n",
       "      <td>02/04/2020</td>\n",
       "      <td>21686</td>\n",
       "      <td>27883</td>\n",
       "      <td>3049</td>\n",
       "      <td>1127</td>\n",
       "      <td>149464,26</td>\n",
       "    </tr>\n",
       "    <tr>\n",
       "      <th>75</th>\n",
       "      <td>20/04/2020</td>\n",
       "      <td>21240</td>\n",
       "      <td>26093</td>\n",
       "      <td>2729</td>\n",
       "      <td>972</td>\n",
       "      <td>124603,67</td>\n",
       "    </tr>\n",
       "    <tr>\n",
       "      <th>61</th>\n",
       "      <td>13/06/2020</td>\n",
       "      <td>18275</td>\n",
       "      <td>20495</td>\n",
       "      <td>2082</td>\n",
       "      <td>661</td>\n",
       "      <td>84464,11</td>\n",
       "    </tr>\n",
       "  </tbody>\n",
       "</table>\n",
       "</div>"
      ],
      "text/plain": [
       "          date  visits  product_views  carts_created  orders orders_value\n",
       "29  16/04/2020   21997          28790           3099    1114    140887,53\n",
       "3   13/04/2020   21135          27109           2861    1037     134157,1\n",
       "38  02/04/2020   21686          27883           3049    1127    149464,26\n",
       "75  20/04/2020   21240          26093           2729     972    124603,67\n",
       "61  13/06/2020   18275          20495           2082     661     84464,11"
      ]
     },
     "execution_count": 2,
     "metadata": {},
     "output_type": "execute_result"
    }
   ],
   "source": [
    "funnel = pd.read_csv(\"/home/pathilink/Documentos/test/enjoei/enjoei_business_analytics_case/data/funnel.csv\")\n",
    "\n",
    "funnel.sample(5)"
   ]
  },
  {
   "cell_type": "code",
   "execution_count": 3,
   "metadata": {},
   "outputs": [
    {
     "data": {
      "text/html": [
       "<div>\n",
       "<style scoped>\n",
       "    .dataframe tbody tr th:only-of-type {\n",
       "        vertical-align: middle;\n",
       "    }\n",
       "\n",
       "    .dataframe tbody tr th {\n",
       "        vertical-align: top;\n",
       "    }\n",
       "\n",
       "    .dataframe thead th {\n",
       "        text-align: right;\n",
       "    }\n",
       "</style>\n",
       "<table border=\"1\" class=\"dataframe\">\n",
       "  <thead>\n",
       "    <tr style=\"text-align: right;\">\n",
       "      <th></th>\n",
       "      <th>order_id</th>\n",
       "      <th>sold_at</th>\n",
       "      <th>seller_id</th>\n",
       "      <th>buyer_id</th>\n",
       "      <th>product_id</th>\n",
       "      <th>shipped_at</th>\n",
       "      <th>order_status</th>\n",
       "      <th>order_value</th>\n",
       "    </tr>\n",
       "  </thead>\n",
       "  <tbody>\n",
       "    <tr>\n",
       "      <th>192</th>\n",
       "      <td>429972</td>\n",
       "      <td>01/04/2020</td>\n",
       "      <td>533412</td>\n",
       "      <td>820669</td>\n",
       "      <td>914098</td>\n",
       "      <td>NaN</td>\n",
       "      <td>canceled</td>\n",
       "      <td>67,07</td>\n",
       "    </tr>\n",
       "    <tr>\n",
       "      <th>364</th>\n",
       "      <td>430785</td>\n",
       "      <td>02/04/2020</td>\n",
       "      <td>59384</td>\n",
       "      <td>880841</td>\n",
       "      <td>371560</td>\n",
       "      <td>NaN</td>\n",
       "      <td>canceled</td>\n",
       "      <td>107,46</td>\n",
       "    </tr>\n",
       "    <tr>\n",
       "      <th>62</th>\n",
       "      <td>429244</td>\n",
       "      <td>01/04/2020</td>\n",
       "      <td>82319</td>\n",
       "      <td>512889</td>\n",
       "      <td>932539</td>\n",
       "      <td>NaN</td>\n",
       "      <td>canceled</td>\n",
       "      <td>185,31</td>\n",
       "    </tr>\n",
       "    <tr>\n",
       "      <th>355</th>\n",
       "      <td>430752</td>\n",
       "      <td>02/04/2020</td>\n",
       "      <td>679870</td>\n",
       "      <td>554756</td>\n",
       "      <td>953123</td>\n",
       "      <td>NaN</td>\n",
       "      <td>canceled</td>\n",
       "      <td>227,58</td>\n",
       "    </tr>\n",
       "    <tr>\n",
       "      <th>172</th>\n",
       "      <td>429861</td>\n",
       "      <td>01/04/2020</td>\n",
       "      <td>404810</td>\n",
       "      <td>567287</td>\n",
       "      <td>442558</td>\n",
       "      <td>NaN</td>\n",
       "      <td>canceled</td>\n",
       "      <td>271,27</td>\n",
       "    </tr>\n",
       "  </tbody>\n",
       "</table>\n",
       "</div>"
      ],
      "text/plain": [
       "     order_id     sold_at  seller_id  buyer_id  product_id  shipped_at  \\\n",
       "192    429972  01/04/2020     533412    820669      914098         NaN   \n",
       "364    430785  02/04/2020      59384    880841      371560         NaN   \n",
       "62     429244  01/04/2020      82319    512889      932539         NaN   \n",
       "355    430752  02/04/2020     679870    554756      953123         NaN   \n",
       "172    429861  01/04/2020     404810    567287      442558         NaN   \n",
       "\n",
       "    order_status order_value  \n",
       "192     canceled       67,07  \n",
       "364     canceled      107,46  \n",
       "62      canceled      185,31  \n",
       "355     canceled      227,58  \n",
       "172     canceled      271,27  "
      ]
     },
     "execution_count": 3,
     "metadata": {},
     "output_type": "execute_result"
    }
   ],
   "source": [
    "orders = pd.read_csv(\"/home/pathilink/Documentos/test/enjoei/enjoei_business_analytics_case/data/orders.csv\")\n",
    "\n",
    "orders.sample(5)"
   ]
  },
  {
   "cell_type": "markdown",
   "metadata": {},
   "source": [
    "## 4. Exploratory Data Analysis\n",
    "[Return to Table of Contents](#Table-of-Contents)"
   ]
  },
  {
   "cell_type": "markdown",
   "metadata": {},
   "source": [
    "## 4.1 Funnel\n",
    "[Return to Table of Contents](#Table-of-Contents)"
   ]
  },
  {
   "cell_type": "code",
   "execution_count": 4,
   "metadata": {},
   "outputs": [
    {
     "name": "stdout",
     "output_type": "stream",
     "text": [
      "The data has 91 rows and 6 columns.\n"
     ]
    }
   ],
   "source": [
    "print('The data has {} rows and {} columns.'.format(funnel.shape[0], funnel.shape[1]))"
   ]
  },
  {
   "cell_type": "code",
   "execution_count": 5,
   "metadata": {},
   "outputs": [
    {
     "name": "stdout",
     "output_type": "stream",
     "text": [
      "<class 'pandas.core.frame.DataFrame'>\n",
      "RangeIndex: 91 entries, 0 to 90\n",
      "Data columns (total 6 columns):\n",
      " #   Column         Non-Null Count  Dtype \n",
      "---  ------         --------------  ----- \n",
      " 0   date           91 non-null     object\n",
      " 1   visits         91 non-null     int64 \n",
      " 2   product_views  91 non-null     int64 \n",
      " 3   carts_created  91 non-null     int64 \n",
      " 4   orders         91 non-null     int64 \n",
      " 5   orders_value   91 non-null     object\n",
      "dtypes: int64(4), object(2)\n",
      "memory usage: 4.4+ KB\n"
     ]
    }
   ],
   "source": [
    "funnel.info()"
   ]
  },
  {
   "cell_type": "code",
   "execution_count": null,
   "metadata": {},
   "outputs": [],
   "source": []
  },
  {
   "cell_type": "code",
   "execution_count": null,
   "metadata": {},
   "outputs": [],
   "source": []
  },
  {
   "cell_type": "markdown",
   "metadata": {},
   "source": [
    "## 4.2 Orders\n",
    "[Return to Table of Contents](#Table-of-Contents)"
   ]
  },
  {
   "cell_type": "code",
   "execution_count": 6,
   "metadata": {},
   "outputs": [
    {
     "name": "stdout",
     "output_type": "stream",
     "text": [
      "The data has 500 rows and 8 columns.\n"
     ]
    }
   ],
   "source": [
    "print('The data has {} rows and {} columns.'.format(orders.shape[0], orders.shape[1]))"
   ]
  },
  {
   "cell_type": "code",
   "execution_count": null,
   "metadata": {},
   "outputs": [],
   "source": []
  },
  {
   "cell_type": "code",
   "execution_count": null,
   "metadata": {},
   "outputs": [],
   "source": []
  },
  {
   "cell_type": "code",
   "execution_count": null,
   "metadata": {},
   "outputs": [],
   "source": []
  }
 ],
 "metadata": {
  "kernelspec": {
   "display_name": "Python 3",
   "language": "python",
   "name": "python3"
  },
  "language_info": {
   "codemirror_mode": {
    "name": "ipython",
    "version": 3
   },
   "file_extension": ".py",
   "mimetype": "text/x-python",
   "name": "python",
   "nbconvert_exporter": "python",
   "pygments_lexer": "ipython3",
   "version": "3.6.9"
  }
 },
 "nbformat": 4,
 "nbformat_minor": 4
}
